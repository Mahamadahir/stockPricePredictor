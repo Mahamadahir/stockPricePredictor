{
 "cells": [
  {
   "cell_type": "markdown",
   "metadata": {},
   "source": [
    "# LSTM Stock Price Prediction\n",
    "\n",
    "Demonstration notebook for the stock prediction workflow."
   ]
  },
  {
   "cell_type": "code",
   "execution_count": null,
   "metadata": {},
   "outputs": [],
   "source": [
    "import sys\n",
    "from pathlib import Path\n",
    "\n",
    "root = Path(\"..\", \"src\").resolve().parent\n",
    "if str(root) not in sys.path:\n",
    "    sys.path.append(str(root))\n",
    "\n",
    "from src import data_fetch, preprocessing, models, evaluate\n",
    "\n",
    "raw = data_fetch.load_history(symbol=\"AAPL\", start=\"2020-01-01\", cache_dir=Path(\"../data\"))\n",
    "features = preprocessing.add_technical_indicators(raw)\n",
    "supervised = preprocessing.make_supervised(features, target_col=\"Close\", horizon=1)\n",
    "feature_cols = [c for c in supervised.columns if not c.endswith(\"target_1\")]\n",
    "target_col = \"Close_target_1\"\n",
    "X = supervised[feature_cols].select_dtypes(\"number\").fillna(0.0)\n",
    "y = supervised[target_col]\n",
    "split = preprocessing.train_test_split_scaled(X, y)\n",
    "\n",
    "X_train_seq, y_train_seq = preprocessing.create_lstm_sequences(split.X_train, split.y_train)\n",
    "X_test_seq, y_test_seq = preprocessing.create_lstm_sequences(split.X_test, split.y_test)\n",
    "\n",
    "model = models.LSTMPriceModel()\n",
    "history = model.fit(X_train_seq, y_train_seq)\n",
    "preds = model.predict(X_test_seq)\n",
    "report = evaluate.regression_report(y_test_seq, preds)\n",
    "report.as_dict()"
   ]
  },
  {
   "cell_type": "code",
   "execution_count": null,
   "metadata": {},
   "outputs": [],
   "source": [
    "fig, ax = evaluate.plot_predictions(y_test_seq, preds, title=\"LSTM Predictions\")\n",
    "fig"
   ]
  }
 ],
 "metadata": {
  "kernelspec": {
   "display_name": "Python 3",
   "language": "python",
   "name": "python3"
  },
  "language_info": {
   "codemirror_mode": {
    "name": "ipython",
    "version": 3
   },
   "file_extension": ".py",
   "mimetype": "text/x-python",
   "name": "python",
   "nbconvert_exporter": "python",
   "pygments_lexer": "ipython3",
   "version": "3.10"
  }
 },
 "nbformat": 4,
 "nbformat_minor": 5
}
